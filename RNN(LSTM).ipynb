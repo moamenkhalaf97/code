{
  "nbformat": 4,
  "nbformat_minor": 0,
  "metadata": {
    "colab": {
      "provenance": [],
      "gpuType": "T4",
      "authorship_tag": "ABX9TyO+cvYQzxyJDJNmfmz1QyTE",
      "include_colab_link": true
    },
    "kernelspec": {
      "name": "python3",
      "display_name": "Python 3"
    },
    "language_info": {
      "name": "python"
    },
    "accelerator": "GPU"
  },
  "cells": [
    {
      "cell_type": "markdown",
      "metadata": {
        "id": "view-in-github",
        "colab_type": "text"
      },
      "source": [
        "<a href=\"https://colab.research.google.com/github/moamenkhalaf97/code/blob/main/RNN(LSTM).ipynb\" target=\"_parent\"><img src=\"https://colab.research.google.com/assets/colab-badge.svg\" alt=\"Open In Colab\"/></a>"
      ]
    },
    {
      "cell_type": "code",
      "execution_count": 5,
      "metadata": {
        "colab": {
          "base_uri": "https://localhost:8080/"
        },
        "id": "VVx3_0X49_hy",
        "outputId": "c3ca78a4-b2b0-45a5-8240-4746a6fc2198"
      },
      "outputs": [
        {
          "output_type": "stream",
          "name": "stdout",
          "text": [
            "(60000, 28, 28)\n",
            "(28, 28)\n"
          ]
        }
      ],
      "source": [
        "import cv2\n",
        "import tensorflow as tf\n",
        "from tensorflow.keras.models import Sequential\n",
        "from tensorflow.keras.layers import Dense,Dropout,LSTM\n",
        "\n",
        "mnist=tf.keras.datasets.mnist\n",
        "(x_train,y_train),(x_test,y_test)=mnist.load_data()\n",
        "\n",
        "x_train=x_train/255.0\n",
        "x_test=x_test/255.0\n",
        "print(x_train.shape)\n",
        "print(x_train[0].shape)"
      ]
    },
    {
      "cell_type": "code",
      "source": [
        " model=Sequential()\n",
        "\n",
        " model.add(LSTM(128,input_shape=(x_train.shape[1:]),activation='relu',return_sequences=True))\n",
        " model.add(Dropout(0.2))\n",
        "\n",
        " model.add(LSTM(128,activation='relu'))\n",
        " model.add(Dropout(0.2))\n",
        "\n",
        " model.add(Dense(32,activation='relu'))\n",
        " model.add(Dropout(0.2))\n",
        "\n",
        " model.add(Dense(10,activation='softmax'))\n",
        "\n",
        " optimizer=tf.keras.optimizers.legacy.Adam(lr=0.001,decay=1e-6)\n",
        "\n",
        " model.compile(loss='sparse_categorical_crossentropy',optimizer=optimizer,metrics=['accuracy'])\n",
        " model.fit(x_train,y_train,epochs=10,validation_data=(x_test,y_test))\n",
        "\n"
      ],
      "metadata": {
        "colab": {
          "base_uri": "https://localhost:8080/"
        },
        "id": "KuqaSZdP-MDj",
        "outputId": "06525882-f0f6-4c68-e54b-4b84d10ec859"
      },
      "execution_count": 6,
      "outputs": [
        {
          "output_type": "stream",
          "name": "stderr",
          "text": [
            "WARNING:tensorflow:Layer lstm_2 will not use cuDNN kernels since it doesn't meet the criteria. It will use a generic GPU kernel as fallback when running on GPU.\n",
            "WARNING:tensorflow:Layer lstm_3 will not use cuDNN kernels since it doesn't meet the criteria. It will use a generic GPU kernel as fallback when running on GPU.\n",
            "/usr/local/lib/python3.10/dist-packages/keras/src/optimizers/legacy/adam.py:118: UserWarning: The `lr` argument is deprecated, use `learning_rate` instead.\n",
            "  super().__init__(name, **kwargs)\n"
          ]
        },
        {
          "output_type": "stream",
          "name": "stdout",
          "text": [
            "Epoch 1/10\n",
            "1875/1875 [==============================] - 91s 48ms/step - loss: 0.6519 - accuracy: 0.7813 - val_loss: 0.1898 - val_accuracy: 0.9412\n",
            "Epoch 2/10\n",
            "1875/1875 [==============================] - 85s 45ms/step - loss: 0.1719 - accuracy: 0.9541 - val_loss: 0.1076 - val_accuracy: 0.9669\n",
            "Epoch 3/10\n",
            "1875/1875 [==============================] - 82s 44ms/step - loss: 0.1201 - accuracy: 0.9681 - val_loss: 0.0704 - val_accuracy: 0.9794\n",
            "Epoch 4/10\n",
            "1875/1875 [==============================] - 83s 44ms/step - loss: 0.0850 - accuracy: 0.9775 - val_loss: 0.0749 - val_accuracy: 0.9790\n",
            "Epoch 5/10\n",
            "1875/1875 [==============================] - 81s 43ms/step - loss: 0.0710 - accuracy: 0.9816 - val_loss: 0.0476 - val_accuracy: 0.9867\n",
            "Epoch 6/10\n",
            "1875/1875 [==============================] - 81s 43ms/step - loss: 0.0700 - accuracy: 0.9813 - val_loss: 0.0497 - val_accuracy: 0.9868\n",
            "Epoch 7/10\n",
            "1875/1875 [==============================] - 82s 44ms/step - loss: 0.0583 - accuracy: 0.9845 - val_loss: 0.0499 - val_accuracy: 0.9869\n",
            "Epoch 8/10\n",
            "1875/1875 [==============================] - 84s 45ms/step - loss: 0.0467 - accuracy: 0.9879 - val_loss: 0.0466 - val_accuracy: 0.9884\n",
            "Epoch 9/10\n",
            "1875/1875 [==============================] - 87s 46ms/step - loss: 0.0502 - accuracy: 0.9868 - val_loss: 0.0361 - val_accuracy: 0.9893\n",
            "Epoch 10/10\n",
            "1875/1875 [==============================] - 82s 44ms/step - loss: 0.0429 - accuracy: 0.9890 - val_loss: 0.0413 - val_accuracy: 0.9890\n"
          ]
        },
        {
          "output_type": "execute_result",
          "data": {
            "text/plain": [
              "<keras.src.callbacks.History at 0x7e5714d625f0>"
            ]
          },
          "metadata": {},
          "execution_count": 6
        }
      ]
    },
    {
      "cell_type": "code",
      "source": [
        "model.evaluate(x_test,y_test)"
      ],
      "metadata": {
        "colab": {
          "base_uri": "https://localhost:8080/"
        },
        "id": "eqTxED3fD5BU",
        "outputId": "563dc726-a292-47bc-8520-de20bc244a42"
      },
      "execution_count": 7,
      "outputs": [
        {
          "output_type": "stream",
          "name": "stdout",
          "text": [
            "313/313 [==============================] - 3s 11ms/step - loss: 0.0413 - accuracy: 0.9890\n"
          ]
        },
        {
          "output_type": "execute_result",
          "data": {
            "text/plain": [
              "[0.0413411445915699, 0.9890000224113464]"
            ]
          },
          "metadata": {},
          "execution_count": 7
        }
      ]
    },
    {
      "cell_type": "code",
      "source": [],
      "metadata": {
        "id": "kzHJZFf_JVcw"
      },
      "execution_count": null,
      "outputs": []
    }
  ]
}