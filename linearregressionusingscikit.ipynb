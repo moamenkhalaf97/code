{
  "nbformat": 4,
  "nbformat_minor": 0,
  "metadata": {
    "colab": {
      "provenance": [],
      "authorship_tag": "ABX9TyN3tvyJiQ2zQ+h4Zxnz4uaI",
      "include_colab_link": true
    },
    "kernelspec": {
      "name": "python3",
      "display_name": "Python 3"
    },
    "language_info": {
      "name": "python"
    }
  },
  "cells": [
    {
      "cell_type": "markdown",
      "metadata": {
        "id": "view-in-github",
        "colab_type": "text"
      },
      "source": [
        "<a href=\"https://colab.research.google.com/github/moamenkhalaf97/code/blob/main/linearregressionusingscikit.ipynb\" target=\"_parent\"><img src=\"https://colab.research.google.com/assets/colab-badge.svg\" alt=\"Open In Colab\"/></a>"
      ]
    },
    {
      "cell_type": "code",
      "execution_count": 1,
      "metadata": {
        "id": "nksfAIIrCVhU"
      },
      "outputs": [],
      "source": [
        "import numpy as np\n",
        "import pandas as pd\n",
        "from sklearn.model_selection import train_test_split\n",
        "from sklearn.linear_model import LinearRegression\n",
        "from sklearn.metrics import mean_squared_error, r2_score\n",
        "import matplotlib.pyplot as plt"
      ]
    },
    {
      "cell_type": "code",
      "source": [
        "data={\n",
        "    'Squarefoot':[1500,1700,2000,2400,2600,3000],\n",
        "    'Price':[200000,250000,300000,360000,400000,460000]\n",
        "}\n",
        "df=pd.DataFrame(data)\n",
        "print(df.head())"
      ],
      "metadata": {
        "colab": {
          "base_uri": "https://localhost:8080/"
        },
        "id": "znmoiA8wCgcX",
        "outputId": "24a48ca3-6483-4d3c-cf15-62acecaf2b6b"
      },
      "execution_count": 4,
      "outputs": [
        {
          "output_type": "stream",
          "name": "stdout",
          "text": [
            "   Squarefoot   Price\n",
            "0        1500  200000\n",
            "1        1700  250000\n",
            "2        2000  300000\n",
            "3        2400  360000\n",
            "4        2600  400000\n"
          ]
        }
      ]
    },
    {
      "cell_type": "code",
      "source": [
        "X=df[['Squarefoot']]\n",
        "y=df['Price']\n",
        "X_train,X_test,y_train,y_test=train_test_split(X,y,test_size=0.2,random_state=42)\n",
        "print(f\"training_data:{X_train.shape},{y_train.shape}\")\n",
        "print(f\"testing_data:{X_test.shape},{y_test.shape}\")\n"
      ],
      "metadata": {
        "colab": {
          "base_uri": "https://localhost:8080/"
        },
        "id": "-hb1LgxYDNuY",
        "outputId": "dfed3d90-2825-4412-82af-dc78ec7527f2"
      },
      "execution_count": 12,
      "outputs": [
        {
          "output_type": "stream",
          "name": "stdout",
          "text": [
            "training_data:(4, 1),(4,)\n",
            "testing_data:(2, 1),(2,)\n"
          ]
        }
      ]
    },
    {
      "cell_type": "code",
      "source": [
        "model=LinearRegression()\n",
        "model.fit(X_train,y_train)\n",
        "print(f\"Intercept: {model.intercept_}\")\n",
        "print(f\"Coefficient: {model.coef_[0]}\")"
      ],
      "metadata": {
        "colab": {
          "base_uri": "https://localhost:8080/"
        },
        "id": "oOIVs8nODsS6",
        "outputId": "8e8dfa13-bef5-43b2-dcf8-2ee0dc26d415"
      },
      "execution_count": 13,
      "outputs": [
        {
          "output_type": "stream",
          "name": "stdout",
          "text": [
            "Intercept: -23846.1538461537\n",
            "Coefficient: 161.5384615384615\n"
          ]
        }
      ]
    },
    {
      "cell_type": "code",
      "source": [
        "y_pred=model.predict(X_test)\n",
        "print(\"predicted price :\",y_pred)\n",
        "print(\"actual price : \",y_test.values)"
      ],
      "metadata": {
        "colab": {
          "base_uri": "https://localhost:8080/"
        },
        "id": "QigVlzFqE6xl",
        "outputId": "0ac529e5-fea8-4ded-d6e4-30d5ef792414"
      },
      "execution_count": 16,
      "outputs": [
        {
          "output_type": "stream",
          "name": "stdout",
          "text": [
            "predicted price : [218461.53846154 250769.23076923]\n",
            "actual price :  [200000 250000]\n"
          ]
        }
      ]
    },
    {
      "cell_type": "code",
      "source": [
        "mse=mean_squared_error(y_test,y_pred)\n",
        "r2=r2_score(y_test,y_pred)\n",
        "print(f\"Mean Squared Error: {mse}\")\n",
        "print(f\"R-squared: {r2}\")"
      ],
      "metadata": {
        "colab": {
          "base_uri": "https://localhost:8080/"
        },
        "id": "Ti5BL2CSF5iz",
        "outputId": "748d89ae-6917-45bb-d501-0b23c900ffff"
      },
      "execution_count": 17,
      "outputs": [
        {
          "output_type": "stream",
          "name": "stdout",
          "text": [
            "Mean Squared Error: 170710059.17159885\n",
            "R-squared: 0.7268639053254418\n"
          ]
        }
      ]
    },
    {
      "cell_type": "code",
      "source": [
        "plt.scatter(X_test,y_test,color='blue',label='Actual data')\n",
        "plt.scatter(X_test,y_pred,color='red',label='Regression Line')\n",
        "plt.xlabel('Squarefoot')\n",
        "plt.ylabel('Price')\n",
        "plt.title('House Price Prediction')\n",
        "plt.legend()\n",
        "plt.show()"
      ],
      "metadata": {
        "colab": {
          "base_uri": "https://localhost:8080/",
          "height": 472
        },
        "id": "h5uEJOb1GZS1",
        "outputId": "80641266-a4b5-4fc7-9dd7-6687aaba0307"
      },
      "execution_count": 19,
      "outputs": [
        {
          "output_type": "display_data",
          "data": {
            "text/plain": [
              "<Figure size 640x480 with 1 Axes>"
            ],
            "image/png": "[encoded data removed]"
          },
          "metadata": {}
        }
      ]
    },
    {
      "cell_type": "code",
      "source": [],
      "metadata": {
        "id": "oyWMMISeHz8c"
      },
      "execution_count": null,
      "outputs": []
    }
  ]
}